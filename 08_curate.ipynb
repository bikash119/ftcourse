{
 "cells": [
  {
   "cell_type": "markdown",
   "id": "08957c55-7a47-4497-b012-ee1c781fcd4e",
   "metadata": {},
   "source": [
    "# Curate Data\n",
    "> Make the data really good"
   ]
  },
  {
   "cell_type": "markdown",
   "id": "260db8ee-3531-4ee8-b76d-3c10d96e7ec3",
   "metadata": {},
   "source": [
    "## Fixing Bad Data\n",
    "\n",
    "The prompt looks like this:\n",
    "\n",
    "```\n",
    "....\n",
    "\n",
    "You are given the following four inputs: (1) NLQ, (2) A list of candidate columns that are allowed to be in the query (3) The query and (4) a critique. Your goal is to improve the query based on the critique suggests you should do so.\n",
    "NLQ: name contains  funtikpub-processTask-30874598\n",
    "    \n",
    "COLUMNS: ['articleunpublished.data.id', 'name', 'service.name', 'telemetry.sdk.name', 'app.newDBTweet.UserScreenName', 'host.name', 'app.dbTweet.Tweet.PublishedAt', 'library.name', 'feedItemID', 'app.dbTweet.Tweet.UserScreenName', 'articleenriched.data.id', 'app.dbTweet.Tweet.ExternalID', 'app.buildMeta.Title', 'net.host.name', 'error', 'app.dbTweet.Tweet.ID', 'app.user.Name', 'service.version', 'app.user.Username', 'app.newDBTweet.UserName', 'newsItemID', 'event.data.id', 'app.buildMeta.PublishTime', 'was_tagged', 'app.dbTweet.Tweet.Text', 'span.kind', 'tweet_id', 'app.dbTweet.Tweet.UserName', 'app.user.Verified', 'app.newDBTweet.ExternalID', 'event.metadata.event_id', 'app.user.Protected', 'feedItem.ID', 'app.dbTweet.Tweet.UserImage', 'app.newDBTweet.PublishedAt', 'feedItem.ItemID', 'app.apiTweet.User.ScreenName', 'app.dbTweet.Tweet.UserURL', 'trace.trace_id', 'app.buildMeta.Teaser', 'http.flavor', 'app.apiTweet.User.Name', 'app.loadTweet.tweet', 'parent_name', 'notification.FeedItemStream.Id', 'app.newDBTweet.ID', 'honeycomb.distro.runtime_version', 'app.v2Tweet.Data.Id', 'app.dbTweet.Tweet.UserVerified', 'app.buildMeta.Media.Images', 'http.route', 'trace.parent_id', 'duration_ms', 'http.status_code', 'exception.message']\n",
    "\n",
    "QUERY: {\"breakdowns\":[\"name\"],\"calculations\":[{\"op\":\"COUNT\"}],\"filters\":[{\"column\":\"name\",\"op\":\"contains\",\"value\":\"funtikpub-processTask-30874598\"}],\"time_range\":7200}\n",
    "\n",
    "CRITIQUE: This query is good because it uses the 'contains' operator to filter by a substring of 'name', which is exactly what is needed based on the NLQ, 'name contains funtikpub-processTask-30874598'. The query also correctly applies a COUNT calculation, which gives the number of instances that match the filter criteria, and breaks down the results by 'name'. This should provide insights into the frequency of occurrences of each unique name containing 'funtikpub-processTask-30874598' within the last 2 hours, as specified by the 'time_range'.\n",
    "\n",
    "Output the improved query and nothing else in a json format adhereing to the QUERY SPEC.\n",
    "```"
   ]
  },
  {
   "cell_type": "markdown",
   "id": "9196ab8d-d644-4c6e-b687-4f02749d94f8",
   "metadata": {},
   "source": [
    "## Filtering Data\n",
    "\n",
    "1. Use level one eval logic to filter invalid queries\n",
    "2. Use level two eval logic to filter queries (you can also try to heal)\n",
    "3. Apply other kinds of filters - in this case filtered out queries that were (1) too simple or too complex (2) near duplicates.\n",
    "\n",
    "```python\n",
    "def complexity(q):\n",
    "    \"calculate complexity score for query.\"\n",
    "    l1_keys = len(q)\n",
    "    l2_keys = 0\n",
    "    l2_vals = 0\n",
    "    \n",
    "    for k in q:\n",
    "        val = q[k]\n",
    "        if isinstance(val, dict):\n",
    "            l2_keys += len(val)\n",
    "        elif isinstance(val, list):\n",
    "            cnt = sum([len(l) if isinstance(l, dict) else 1 for l in val])\n",
    "            if cnt == 0: return 0 # so we can filter out queries with empty values\n",
    "            else: l2_vals += cnt\n",
    "    return l1_keys + l2_keys + l2_vals\n",
    "```\n",
    "\n",
    "### Lilac\n",
    "\n",
    "A popular tool for searching for, filtering, etc duplicates is [Lilac](https://www.lilacml.com/).\n",
    "\n",
    "\n",
    "### A naive way to filter near duplicates\n",
    "\n",
    "This is very specific to this use case. Start simple.\n",
    "\n",
    "We want to filter duplicates where the (`nlq`, `cols`), (`nlq`, `query`), or (`cols`, `query`) is the same.\n",
    "\n",
    "```python\n",
    "valid_synth_df = (valid_synth_df\n",
    " .drop_duplicates(subset=['nlq', 'col_set'])\n",
    " .drop_duplicates(subset=['col_set', 'str_query'])\n",
    " .drop_duplicates(subset=['nlq', 'str_query'])\n",
    ")\n",
    "```\n",
    "\n"
   ]
  },
  {
   "cell_type": "code",
   "execution_count": null,
   "id": "a58b4cdc-a2d3-4e98-acff-51db25000c17",
   "metadata": {},
   "outputs": [],
   "source": []
  }
 ],
 "metadata": {
  "kernelspec": {
   "display_name": "Python 3 (ipykernel)",
   "language": "python",
   "name": "python3"
  },
  "language_info": {
   "codemirror_mode": {
    "name": "ipython",
    "version": 3
   },
   "file_extension": ".py",
   "mimetype": "text/x-python",
   "name": "python",
   "nbconvert_exporter": "python",
   "pygments_lexer": "ipython3",
   "version": "3.10.13"
  }
 },
 "nbformat": 4,
 "nbformat_minor": 5
}
