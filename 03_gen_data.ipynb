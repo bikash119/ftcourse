{
 "cells": [
  {
   "cell_type": "markdown",
   "id": "085428e1-af3a-4c32-b01b-b618c90e8adb",
   "metadata": {},
   "source": [
    "# Generating Synthetic Data\n",
    "\n",
    "- No hard and fast rule about how much data you need to have before you start fine-tuning\n",
    "- I've seen ok results in as few as 1,000 examples but I usually just get as much data as I can that is reasonable to acquire.\n",
    "- I ended up generated ~ 30k examples in the beginning for an initial run through"
   ]
  },
  {
   "cell_type": "markdown",
   "id": "b6c45ed6-8d7d-4033-b2a9-bc5355680b21",
   "metadata": {},
   "source": [
    "## My Prompt\n",
    "\n",
    "First part is the same, but take a look after the horizontal rule below (starting with the text \"You are given the following three inputs\"):"
   ]
  },
  {
   "cell_type": "markdown",
   "id": "0f7c5fa1-658d-4d81-9e66-ea86b4c47935",
   "metadata": {},
   "source": [
    "```\n",
    "Honeycomb is an observability platform that allows you to write queries to inspect trace data.\n",
    "The specification of the Honeycomb query language is as follows:\n",
    "\n",
    "QUERY SPEC:\n",
    "All top-level keys are optional.\n",
    "\n",
    "```json\n",
    "\"calculations\":[\n",
    "    // ops: COUNT, CONCURRENCY, COUNT_DISTINCT, HEATMAP, SUM, AVG, MAX, MIN, P001, P01, P05, P10, P25, P50, P75, P90, P95, P99, P999, RATE_AVG, RATE_SUM, RATE_MAX\n",
    "    {\"op\": \"COUNT\"},// COUNT and CONCURRENCY are just op\n",
    "    {\"op\": \"HEATMAP\", \"column\": \"name\"}\n",
    "],\n",
    "\"filters\":[\n",
    "    // ops: =, !=, >, >=, <, <=, starts-with, does-not-start-with, exists, does-not-exist, contains, does-not-contain, in, not-in\n",
    "    {\"column\": \"name\", \"op\": \"exists\"}, // exists and does-not-exist ops only have column\n",
    "    {\"column\": \"name\", \"op\": \"=\", \"value\": \"something\"}\n",
    "],\n",
    "\"filter_combination\": \"AND\", // AND or OR\n",
    "\"breakdowns\":[\n",
    "    // columns in COLUMNS\n",
    "    \"column1\",\"column2\"\n",
    "],\n",
    "\"orders\":[\n",
    "    // HEATMAP not allowed\n",
    "    // Must come from breakdowns or calculations\n",
    "    {\"op\": \"op_in_calculation\", \"column\": \"column_in_calculation\", \"order\": \"ascending\"},\n",
    "    {\"op\": \"COUNT\", \"order\": \"descending\"}, // COUNT and CONCURRENCY have no column\n",
    "    {\"column\": \"column1\", \"order\": \"descending\"},\n",
    "],\n",
    "\"havings\":[\n",
    "    // HEATMAP not allowed\n",
    "    {\"calculate_op\": \"op_in_calculation\", \"column\": \"name\", \"op\": \"OPNAME\", \"value\": 100},\n",
    "    {\"calculate_op\": \"COUNT\", \"op\": \">\", \"value\": 10}, // COUNT and CONCURRENCY have no column\n",
    "],\n",
    "\"time_range\": 7200, // Relative time range in seconds.\n",
    "\"start_time\": 1234567890, // UNIX timestamp\n",
    "\"end_time\": 1234567890, // UNIX timestamp\n",
    "```\n",
    "\n",
    "Here are some examples of how you would translate a natural language query(NLQ) into a Honeycomb Query:\n",
    "\n",
    "NLQ: Exception count by exception and caller\n",
    "Query:\n",
    "{\"breakdowns\":[\"exception.message\",\"parent_name\"],\"calculations\":[{\"op\":\"COUNT\"}],\"filters\":[{\"column\":\"exception.message\",\"op\":\"exists\",\"join_column\":\"\"},{\"column\":\"parent_name\",\"op\":\"exists\",\"join_column\":\"\"}],\"orders\":[{\"op\":\"COUNT\",\"order\":\"descending\"}],\"time_range\":7200}\n",
    "\n",
    "NLQ: Error count\n",
    "Query:\n",
    "{\"breakdowns\":[\"error\"],\"calculations\":[{\"op\":\"COUNT\"}],\"filters\":[{\"column\":\"error\",\"op\":\"=\",\"value\":true,\"join_column\":\"\"}],\"orders\":[{\"op\":\"COUNT\",\"order\":\"descending\"}],\"time_range\":7200}\n",
    "\n",
    "NLQ: Error rate\n",
    "Query:\n",
    "{\"breakdowns\":[\"error\"],\"calculations\":[{\"op\":\"COUNT\"}],\"orders\":[{\"op\":\"COUNT\",\"order\":\"descending\"}],\"time_range\":7200}\n",
    "\n",
    "NLQ: Slow requests\n",
    "Query:\n",
    "{\"breakdowns\":[\"http.route\"],\"calculations\":[{\"column\":\"duration_ms\",\"op\":\"HEATMAP\"},{\"column\":\"duration_ms\",\"op\":\"MAX\"}],\"filters\":[{\"column\":\"trace.parent_id\",\"op\":\"does-not-exist\",\"join_column\":\"\"}],\"orders\":[{\"column\":\"duration_ms\",\"op\":\"MAX\",\"order\":\"descending\"}],\"time_range\":7200}\n",
    "\n",
    "---\n",
    "You are given the following three inputs: (1) NLQ, (2) A list of candidate columns that are allowed to be in the query, and (3) The query. \n",
    "Your goal is to generate correct variations of the combination of NLQ, candidate columns and query to build syntetic dataset that is a valid representation of\n",
    "the Honeycomb Query Language.  You can build synthetic data by re-wording the query and/or substituting a column name in both the query and candidate column lists.\n",
    "Your response should be in json with the following three keys: \"nlq\", \"cols\", and \"query\".  Furthermore, the modified query should be a similar complexity as the original query, and the list of columns should be unchanged EXCEPT for the renamed column (the length of candidate columns should be the same).\n",
    "\n",
    "NLQ: solver_svc.get_gmv_previsto_grupos\n",
    "    \n",
    "COLUMNS: ['service_name', 'model_name', 'pagarme_operation', 'motorista', 'service.name', 'django.view_func', 'client', 'objects_created', 'db.query', 'squad', 'torre-path', 'lazy', 'model', 'db.rows_affected', 'company', 'trace.parent_id', 'event_id', 'duration_ms', 'db.query_args', 'app_name', 'efox', 'app.exception_stacktrace', 'bulk_task.calls', 'rollup.objects_created', 'db.error', 'meta.type', 'correlation_id', 'efopops-path', 'request.query', 'db.query_short', 'environment', 'meta.beeline_version', 'db.error_detail', 'request.error_detail', 'db.last_insert_id', 'trace.trace_id', 'request.error', 'name', 'request.user_id', 'request.secure', 'request.method', 'db.total_duration', 'request.url', 'request.scheme', 'trace.span_id', 'request.user_agent', 'db.duration', 'db.call_count', 'rollup.celery.calls', 'type', 'request.path', 'response.status_code']\n",
    "\n",
    "QUERY: {\"breakdowns\":[\"name\"],\"filters\":[{\"column\":\"name\",\"op\":\"=\",\"value\":\"solver_svc.get_gmv_previsto_grupos\"}],\"calculations\":[{\"column\":\"duration_ms\",\"op\":\"HEATMAP\"}]}\n",
    "\n",
    "You should make small coherent changes and return the data as a json with three keys: \"nlq\", \"cols\", and \"query\".\n",
    "```"
   ]
  },
  {
   "cell_type": "code",
   "execution_count": null,
   "id": "b215706d-4bee-42a5-a380-099f99e9a443",
   "metadata": {},
   "outputs": [],
   "source": []
  }
 ],
 "metadata": {
  "kernelspec": {
   "display_name": "Python 3 (ipykernel)",
   "language": "python",
   "name": "python3"
  },
  "language_info": {
   "codemirror_mode": {
    "name": "ipython",
    "version": 3
   },
   "file_extension": ".py",
   "mimetype": "text/x-python",
   "name": "python",
   "nbconvert_exporter": "python",
   "pygments_lexer": "ipython3",
   "version": "3.10.13"
  }
 },
 "nbformat": 4,
 "nbformat_minor": 5
}
