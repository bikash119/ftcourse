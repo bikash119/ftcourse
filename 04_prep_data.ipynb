{
 "cells": [
  {
   "cell_type": "markdown",
   "id": "55a0a203-1518-4546-9c0d-dfe2e3126c30",
   "metadata": {},
   "source": [
    "## The Prepared data"
   ]
  },
  {
   "cell_type": "code",
   "execution_count": 18,
   "id": "a59a4887-5f78-48a2-8d47-1e49924c8bc1",
   "metadata": {},
   "outputs": [
    {
     "name": "stdout",
     "output_type": "stream",
     "text": [
      "{\n",
      "    \"conversations\": [\n",
      "        {\n",
      "            \"from\": \"system\",\n",
      "            \"value\": \"Honeycomb is an observability platform that allows you to write queries to inspect trace data. You are an assistant that takes a natural language query (NLQ) and a list of valid columns and produce a Honeycomb query.\"\n",
      "        },\n",
      "        {\n",
      "            \"from\": \"human\",\n",
      "            \"value\": \"\\n\\nNLQ: \\\"group by HTTP method\\\"\\n\\nColumns: ['query_string_num_tokens', 'query_string_length', 'data_queries', 'http.target', 'task.id', 'trace_root.http.target', 'topic', 'http.host', 'total_hits', 'db.user', 'domain_types', 'db.name', 'graphql.document', 'history', 'http.scheme', 'http.method', 'frontend.version', 'disposition_for_dBVVysC8x4Ymwg9rtjMckgw9', 'db.system', 'event_name', 'organization', 'auth.logout', 'organizations', 'name', 'net.transport', 'db.operation', 'disposition_for_UvsPPBVUn9FDuzDjsjYCqopq', 'disposition_for_1RUGSd7GdnP5tuKdgqBRZUm2', 'process.pid', 'disposition_for_6uyAoBc3PuvEcTTPFgPM3Rtk', 'exception.stacktrace', 'data_ingestion_individuals_count', 'disposition_for_qrnUBUz8YBfNX7Liekq6nKi3', 'task_type.type', 'disposition_for_JQDNbuUdaQcEbEwQNxUbV5EF', 'disposition_for_rAcWoXfbHw4eWoJFH4ZcY8ue', 'disposition_for_eShqQoC9jUi9VQBidpp2oXHP', 'parent_name', 'template', 'graphql.operation.name', 'span.num_links', 'disposition_for_kNSPtvsCWkDoEyFP2QE6VPmQ', 'disposition_for_UUqf9L1qkFxDNEvcgsVMA2yy', 'disposition_for_vwbbN76HZ7uitLubvkUjPFQE', 'disposition_for_aAto1pGrdF5RunpSX8sY5hvn', 'disposition_for_UbKCMdnkPQ6TuHrfdBo5juZu', 'disposition_for_QfrvmoHxSgLPJXPKZCrZfGo8', 'disposition_for_NoKSSruBRCX6UG28PzmkybUd', 'disposition_for_UZAqvZ5XVBZjKKWuMeRkRayS', 'organization_token', 'duration_ms', 'trace.parent_id', 'db.statement', 'exception.message', 'error', 'service.name', 'http.status_code', 'http.route']\"\n",
      "        },\n",
      "        {\n",
      "            \"from\": \"gpt\",\n",
      "            \"value\": \"\\n{\\\"breakdowns\\\": [\\\"http.method\\\"], \\\"calculations\\\": [{\\\"op\\\": \\\"COUNT\\\"}], \\\"time_range\\\": 7200}\"\n",
      "        }\n",
      "    ]\n",
      "}\n"
     ]
    }
   ],
   "source": [
    "!head -n1 sample_data/alpaca_synth_queries.jsonl | python -m json.tool --json-lines"
   ]
  },
  {
   "cell_type": "markdown",
   "id": "18d4dac6-7d00-4092-8f39-93ebbc7caefe",
   "metadata": {},
   "source": [
    "## The Config\n",
    "\n",
    "Pay close attention to `datasets` and `train_on_inputs`"
   ]
  },
  {
   "cell_type": "code",
   "execution_count": 25,
   "id": "6e967700-792c-4d5c-b05e-20030b765550",
   "metadata": {},
   "outputs": [
    {
     "name": "stdout",
     "output_type": "stream",
     "text": [
      "base_model: mistralai/Mistral-7B-v0.1\n",
      "model_type: MistralForCausalLM\n",
      "tokenizer_type: LlamaTokenizer\n",
      "is_mistral_derived_model: true\n",
      "\n",
      "load_in_8bit: false\n",
      "load_in_4bit: true\n",
      "strict: false\n",
      "\n",
      "lora_fan_in_fan_out: false\n",
      "data_seed: 49\n",
      "seed: 49\n",
      "\n",
      "datasets:\n",
      "  - path: sample_data/alpaca_synth_queries.jsonl\n",
      "    type: sharegpt\n",
      "    conversation: alpaca\n",
      "dataset_prepared_path: last_run_prepared\n",
      "val_set_size: 0.1\n",
      "output_dir: ./qlora-alpaca-out\n",
      "hub_model_id: hamel/hc-mistral-alpaca\n",
      "\n",
      "adapter: qlora\n",
      "lora_model_dir:\n",
      "\n",
      "sequence_len: 896\n",
      "sample_packing: false\n",
      "pad_to_sequence_len: true\n",
      "\n",
      "lora_r: 32\n",
      "lora_alpha: 16\n",
      "lora_dropout: 0.05\n",
      "lora_target_linear: true\n",
      "lora_fan_in_fan_out:\n",
      "lora_target_modules:\n",
      "  - gate_proj\n",
      "  - down_proj\n",
      "  - up_proj\n",
      "  - q_proj\n",
      "  - v_proj\n",
      "  - k_proj\n",
      "  - o_proj\n",
      "\n",
      "wandb_project: hc-axolotl-mistral\n",
      "wandb_entity: hamelsmu\n",
      "\n",
      "gradient_accumulation_steps: 4\n",
      "micro_batch_size: 16\n",
      "eval_batch_size: 16\n",
      "num_epochs: 3\n",
      "optimizer: adamw_bnb_8bit\n",
      "lr_scheduler: cosine\n",
      "learning_rate: 0.0002\n",
      "max_grad_norm: 1.0\n",
      "adam_beta2: 0.95\n",
      "adam_epsilon: 0.00001\n",
      "save_total_limit: 12\n",
      "\n",
      "train_on_inputs: false\n",
      "group_by_length: false\n",
      "bf16: true\n",
      "fp16: false\n",
      "tf32: false\n",
      "\n",
      "gradient_checkpointing: true\n",
      "early_stopping_patience:\n",
      "resume_from_checkpoint:\n",
      "local_rank:\n",
      "logging_steps: 1\n",
      "xformers_attention:\n",
      "flash_attention: true\n",
      "\n",
      "loss_watchdog_threshold: 5.0\n",
      "loss_watchdog_patience: 3\n",
      "\n",
      "warmup_steps: 20\n",
      "evals_per_epoch: 4\n",
      "eval_table_size:\n",
      "eval_table_max_new_tokens: 128\n",
      "saves_per_epoch: 6\n",
      "debug:\n",
      "weight_decay: 0.0\n",
      "fsdp:\n",
      "fsdp_config:\n",
      "special_tokens:\n",
      "  bos_token: \"<s>\"\n",
      "  eos_token: \"</s>\"\n",
      "  unk_token: \"<unk>\"\n",
      "save_safetensors: true\n"
     ]
    }
   ],
   "source": [
    "!cat hc.yml"
   ]
  },
  {
   "cell_type": "markdown",
   "id": "205baf5c-09cd-46ff-a34d-c85c0b73fac3",
   "metadata": {},
   "source": [
    "### HF & WandB\n",
    "\n",
    "You need to change the following things in your config\n",
    "\n",
    "```yaml\n",
    "wandb_project: hc-axolotl-mistral\n",
    "wandb_entity: hamelsmu\n",
    "hub_model_id: hamel/hc-mistral-alpaca\n",
    "```"
   ]
  },
  {
   "cell_type": "markdown",
   "id": "bd4ec546-7ff5-4255-ab23-5596bc8e4ec3",
   "metadata": {},
   "source": [
    "## Do the Preprocessing"
   ]
  },
  {
   "cell_type": "code",
   "execution_count": 26,
   "id": "2fb76432-78a2-4aca-a885-34e5fd735c1f",
   "metadata": {},
   "outputs": [
    {
     "name": "stdout",
     "output_type": "stream",
     "text": [
      "[2024-05-16 21:32:44,934] [INFO] [real_accelerator.py:191:get_accelerator] Setting ds_accelerator to cuda (auto detect)\n",
      "                                 dP            dP   dP \n",
      "                                 88            88   88 \n",
      "      .d8888b. dP.  .dP .d8888b. 88 .d8888b. d8888P 88 \n",
      "      88'  `88  `8bd8'  88'  `88 88 88'  `88   88   88 \n",
      "      88.  .88  .d88b.  88.  .88 88 88.  .88   88   88 \n",
      "      `88888P8 dP'  `dP `88888P' dP `88888P'   dP   dP \n",
      "                                                       \n",
      "                                                       \n",
      "\n",
      "****************************************\n",
      "**** Axolotl Dependency Versions *****\n",
      "  accelerate: 0.26.1         \n",
      "        peft: 0.9.1.dev0     \n",
      "transformers: 4.39.0.dev0    \n",
      "         trl: 0.7.9          \n",
      "       torch: 2.0.1          \n",
      "bitsandbytes: 0.41.3.post2   \n",
      "****************************************\n",
      "[2024-05-16 21:32:46,301] [INFO] [axolotl.normalize_config:182] [PID:751428] [RANK:0] GPU memory usage baseline: 0.000GB (+0.651GB misc)\u001b[39m\n",
      "[2024-05-16 21:32:46,662] [DEBUG] [axolotl.load_tokenizer:277] [PID:751428] [RANK:0] EOS: 2 / </s>\u001b[39m\n",
      "[2024-05-16 21:32:46,662] [DEBUG] [axolotl.load_tokenizer:278] [PID:751428] [RANK:0] BOS: 1 / <s>\u001b[39m\n",
      "[2024-05-16 21:32:46,662] [DEBUG] [axolotl.load_tokenizer:279] [PID:751428] [RANK:0] PAD: 2 / </s>\u001b[39m\n",
      "[2024-05-16 21:32:46,662] [DEBUG] [axolotl.load_tokenizer:280] [PID:751428] [RANK:0] UNK: 0 / <unk>\u001b[39m\n",
      "[2024-05-16 21:32:46,662] [INFO] [axolotl.load_tokenizer:291] [PID:751428] [RANK:0] No Chat template selected. Consider adding a chat template for easier inference.\u001b[39m\n",
      "[2024-05-16 21:32:46,662] [INFO] [axolotl.load_tokenized_prepared_datasets:183] [PID:751428] [RANK:0] Unable to find prepared dataset in last_run_prepared/22cf9f5f00f9d3b9504fbaf9b68a2f75\u001b[39m\n",
      "[2024-05-16 21:32:46,662] [INFO] [axolotl.load_tokenized_prepared_datasets:184] [PID:751428] [RANK:0] Loading raw datasets...\u001b[39m\n",
      "[2024-05-16 21:32:47,065] [INFO] [axolotl.load_tokenized_prepared_datasets:410] [PID:751428] [RANK:0] merging datasets\u001b[39m\n",
      "[2024-05-16 21:32:47,069] [DEBUG] [axolotl.log:61] [PID:751428] [RANK:0] min_input_len: 298\u001b[39m\n",
      "[2024-05-16 21:32:47,069] [DEBUG] [axolotl.log:61] [PID:751428] [RANK:0] max_input_len: 768\u001b[39m\n",
      "[2024-05-16 21:32:47,069] [INFO] [axolotl.log:61] [PID:751428] [RANK:0] dropping attention_mask column\u001b[39m\n",
      "Dropping Long Sequences (num_proc=72): 100%|█| 100/100 [00:00<00:00, 297.01 exam\n",
      "[2024-05-16 21:32:48,225] [INFO] [axolotl.load_tokenized_prepared_datasets:423] [PID:751428] [RANK:0] Saving merged prepared dataset to disk... last_run_prepared/22cf9f5f00f9d3b9504fbaf9b68a2f75\u001b[39m\n",
      "Saving the dataset (1/1 shards): 100%|█| 100/100 [00:00<00:00, 10268.08 examples\n",
      "[2024-05-16 21:32:48,248] [DEBUG] [axolotl.log:61] [PID:751428] [RANK:0] total_num_tokens: 49_324\u001b[39m\n",
      "[2024-05-16 21:32:48,249] [DEBUG] [axolotl.log:61] [PID:751428] [RANK:0] `total_supervised_tokens: 7_732`\u001b[39m\n",
      "[2024-05-16 21:32:48,249] [DEBUG] [axolotl.log:61] [PID:751428] [RANK:0] total_num_steps: 5\u001b[39m\n",
      "[2024-05-16 21:32:48,254] [INFO] [axolotl.cli.preprocess.do_cli:62] [PID:751428] [RANK:0] \u001b[32mSuccess! Preprocessed data path: `dataset_prepared_path: last_run_prepared`\u001b[39m\u001b[39m\n",
      "\u001b[0m"
     ]
    }
   ],
   "source": [
    "! python -m axolotl.cli.preprocess hc.yml"
   ]
  },
  {
   "cell_type": "markdown",
   "id": "a799030a-5b05-4559-a399-9811f7c28865",
   "metadata": {},
   "source": [
    "## Debug\n",
    "\n",
    "### See All The commands"
   ]
  },
  {
   "cell_type": "code",
   "execution_count": 27,
   "id": "a9841b32-3a27-4f60-8879-5d35acf8cab4",
   "metadata": {},
   "outputs": [
    {
     "name": "stdout",
     "output_type": "stream",
     "text": [
      "[2024-05-16 21:32:59,710] [INFO] [real_accelerator.py:191:get_accelerator] Setting ds_accelerator to cuda (auto detect)\n",
      "                                 dP            dP   dP \n",
      "                                 88            88   88 \n",
      "      .d8888b. dP.  .dP .d8888b. 88 .d8888b. d8888P 88 \n",
      "      88'  `88  `8bd8'  88'  `88 88 88'  `88   88   88 \n",
      "      88.  .88  .d88b.  88.  .88 88 88.  .88   88   88 \n",
      "      `88888P8 dP'  `dP `88888P' dP `88888P'   dP   dP \n",
      "                                                       \n",
      "                                                       \n",
      "\n",
      "****************************************\n",
      "**** Axolotl Dependency Versions *****\n",
      "  accelerate: 0.26.1         \n",
      "        peft: 0.9.1.dev0     \n",
      "transformers: 4.39.0.dev0    \n",
      "         trl: 0.7.9          \n",
      "       torch: 2.0.1          \n",
      "bitsandbytes: 0.41.3.post2   \n",
      "****************************************\n",
      "[2024-05-16 21:33:00,878] [INFO] [axolotl.normalize_config:182] [PID:752112] [RANK:0] GPU memory usage baseline: 0.000GB (+0.651GB misc)\u001b[39m\n",
      "usage: preprocess.py [-h] [--debug [DEBUG]]\n",
      "                     [--debug_text_only [DEBUG_TEXT_ONLY]]\n",
      "                     [--debug_num_examples DEBUG_NUM_EXAMPLES]\n",
      "                     [--prompter PROMPTER]\n",
      "\n",
      "options:\n",
      "  -h, --help            show this help message and exit\n",
      "  --debug [DEBUG]\n",
      "  --debug_text_only [DEBUG_TEXT_ONLY]\n",
      "  --debug_num_examples DEBUG_NUM_EXAMPLES\n",
      "  --prompter PROMPTER\n",
      "\u001b[0m"
     ]
    }
   ],
   "source": [
    "! python -m axolotl.cli.preprocess hc.yml --help"
   ]
  },
  {
   "cell_type": "markdown",
   "id": "7f337b50-07e7-4a3e-bf76-bfb6b0fabe61",
   "metadata": {},
   "source": [
    "### Text Only\n",
    "\n",
    "I often have problems with `debug_text_only`, so I do things manually"
   ]
  },
  {
   "cell_type": "code",
   "execution_count": 33,
   "id": "2b82812f-76ce-4944-b330-de7ba383e6aa",
   "metadata": {},
   "outputs": [
    {
     "name": "stdout",
     "output_type": "stream",
     "text": [
      "total 12K\n",
      "drwxrwxr-x 3 hamel hamel 4.0K May 16 21:29 .\n",
      "drwxrwxr-x 8 hamel hamel 4.0K May 16 21:43 ..\n",
      "drwxrwxr-x 2 hamel hamel 4.0K May 16 21:29 22cf9f5f00f9d3b9504fbaf9b68a2f75\n"
     ]
    }
   ],
   "source": [
    "!ls -lah last_run_prepared/"
   ]
  },
  {
   "cell_type": "code",
   "execution_count": 34,
   "id": "9dd3a555-be44-4814-bcae-6a45b2491e56",
   "metadata": {},
   "outputs": [],
   "source": [
    "import json, yaml\n",
    "from transformers import AutoTokenizer\n",
    "from datasets import load_from_disk\n",
    "\n",
    "with open('hc.yml', 'r') as f:\n",
    "    cfg = yaml.safe_load(f)\n",
    "model_id = cfg['base_model']\n",
    "tok = AutoTokenizer.from_pretrained(model_id)\n",
    "ds = load_from_disk('last_run_prepared/22cf9f5f00f9d3b9504fbaf9b68a2f75/')"
   ]
  },
  {
   "cell_type": "markdown",
   "id": "f2a4e4fc-ac51-413a-89b7-bdd6f8bd83d5",
   "metadata": {},
   "source": [
    "Below is the assembled text in its flattened format.  Notice the spaces that axolotl are adding. Will talk about this at the end.\n",
    "\n",
    "This makes me paranoid because of differences between how the prompt is assembled and inference.  You just have to make sure its the same at inference!  \n"
   ]
  },
  {
   "cell_type": "code",
   "execution_count": 35,
   "id": "6f729546-5625-4f65-ada9-0c35a55509c3",
   "metadata": {},
   "outputs": [
    {
     "name": "stdout",
     "output_type": "stream",
     "text": [
      "<s> Honeycomb is an observability platform that allows you to write queries to inspect trace data. You are an assistant that takes a natural language query (NLQ) and a list of valid columns and produce a Honeycomb query.\n",
      "\n",
      " ### Instruction: \n",
      "\n",
      "NLQ: \"group by HTTP method\"\n",
      "\n",
      "Columns: ['query_string_num_tokens', 'query_string_length', 'data_queries', 'http.target', 'task.id', 'trace_root.http.target', 'topic', 'http.host', 'total_hits', 'db.user', 'domain_types', 'db.name', 'graphql.document', 'history', 'http.scheme', 'http.method', 'frontend.version', 'disposition_for_dBVVysC8x4Ymwg9rtjMckgw9', 'db.system', 'event_name', 'organization', 'auth.logout', 'organizations', 'name', 'net.transport', 'db.operation', 'disposition_for_UvsPPBVUn9FDuzDjsjYCqopq', 'disposition_for_1RUGSd7GdnP5tuKdgqBRZUm2', 'process.pid', 'disposition_for_6uyAoBc3PuvEcTTPFgPM3Rtk', 'exception.stacktrace', 'data_ingestion_individuals_count', 'disposition_for_qrnUBUz8YBfNX7Liekq6nKi3', 'task_type.type', 'disposition_for_JQDNbuUdaQcEbEwQNxUbV5EF', 'disposition_for_rAcWoXfbHw4eWoJFH4ZcY8ue', 'disposition_for_eShqQoC9jUi9VQBidpp2oXHP', 'parent_name', 'template', 'graphql.operation.name', 'span.num_links', 'disposition_for_kNSPtvsCWkDoEyFP2QE6VPmQ', 'disposition_for_UUqf9L1qkFxDNEvcgsVMA2yy', 'disposition_for_vwbbN76HZ7uitLubvkUjPFQE', 'disposition_for_aAto1pGrdF5RunpSX8sY5hvn', 'disposition_for_UbKCMdnkPQ6TuHrfdBo5juZu', 'disposition_for_QfrvmoHxSgLPJXPKZCrZfGo8', 'disposition_for_NoKSSruBRCX6UG28PzmkybUd', 'disposition_for_UZAqvZ5XVBZjKKWuMeRkRayS', 'organization_token', 'duration_ms', 'trace.parent_id', 'db.statement', 'exception.message', 'error', 'service.name', 'http.status_code', 'http.route']\n",
      "\n",
      " ### Response: \n",
      "{\"breakdowns\": [\"http.method\"], \"calculations\": [{\"op\": \"COUNT\"}], \"time_range\": 7200}</s>\n"
     ]
    }
   ],
   "source": [
    "print(tok.decode(ds['input_ids'][0]))"
   ]
  },
  {
   "cell_type": "markdown",
   "id": "dbfa59b1-8a95-4e65-b018-f259db75a75a",
   "metadata": {},
   "source": [
    "### Other Notes\n",
    "\n",
    "- Seeing the flattened version often helps you spot issues in your prompt.  It can be hard to notice that in jsonl format.\n",
    "- Check multiple examples!"
   ]
  },
  {
   "cell_type": "markdown",
   "id": "c9b8d205-e1b4-4d59-b24c-5fa78a473459",
   "metadata": {},
   "source": [
    "### Verbose debugging\n",
    "\n",
    "This helps you check things like: \n",
    "1. ignoring inputs (`train_on_inputs:False`) - notice the `red` color, which indicate tokens that are ignored.\n",
    "2. token ids (ex: what are those spaces right before `##`?\n",
    "3. The logs tell you what the special tokens are."
   ]
  },
  {
   "cell_type": "code",
   "execution_count": 32,
   "id": "c155f555-9660-46b2-b619-26ae226ad870",
   "metadata": {},
   "outputs": [
    {
     "name": "stdout",
     "output_type": "stream",
     "text": [
      "[2024-05-16 21:42:39,557] [INFO] [real_accelerator.py:191:get_accelerator] Setting ds_accelerator to cuda (auto detect)\n",
      "                                 dP            dP   dP \n",
      "                                 88            88   88 \n",
      "      .d8888b. dP.  .dP .d8888b. 88 .d8888b. d8888P 88 \n",
      "      88'  `88  `8bd8'  88'  `88 88 88'  `88   88   88 \n",
      "      88.  .88  .d88b.  88.  .88 88 88.  .88   88   88 \n",
      "      `88888P8 dP'  `dP `88888P' dP `88888P'   dP   dP \n",
      "                                                       \n",
      "                                                       \n",
      "\n",
      "****************************************\n",
      "**** Axolotl Dependency Versions *****\n",
      "  accelerate: 0.26.1         \n",
      "        peft: 0.9.1.dev0     \n",
      "transformers: 4.39.0.dev0    \n",
      "         trl: 0.7.9          \n",
      "       torch: 2.0.1          \n",
      "bitsandbytes: 0.41.3.post2   \n",
      "****************************************\n",
      "[2024-05-16 21:42:40,813] [INFO] [axolotl.normalize_config:182] [PID:766298] [RANK:0] GPU memory usage baseline: 0.000GB (+0.651GB misc)\u001b[39m\n",
      "[2024-05-16 21:42:41,246] [DEBUG] [axolotl.load_tokenizer:277] [PID:766298] [RANK:0] EOS: 2 / </s>\u001b[39m\n",
      "[2024-05-16 21:42:41,246] [DEBUG] [axolotl.load_tokenizer:278] [PID:766298] [RANK:0] BOS: 1 / <s>\u001b[39m\n",
      "[2024-05-16 21:42:41,246] [DEBUG] [axolotl.load_tokenizer:279] [PID:766298] [RANK:0] PAD: 2 / </s>\u001b[39m\n",
      "[2024-05-16 21:42:41,246] [DEBUG] [axolotl.load_tokenizer:280] [PID:766298] [RANK:0] UNK: 0 / <unk>\u001b[39m\n",
      "[2024-05-16 21:42:41,246] [INFO] [axolotl.load_tokenizer:291] [PID:766298] [RANK:0] No Chat template selected. Consider adding a chat template for easier inference.\u001b[39m\n",
      "[2024-05-16 21:42:41,246] [INFO] [axolotl.load_tokenized_prepared_datasets:183] [PID:766298] [RANK:0] Unable to find prepared dataset in last_run_prepared/22cf9f5f00f9d3b9504fbaf9b68a2f75\u001b[39m\n",
      "[2024-05-16 21:42:41,246] [INFO] [axolotl.load_tokenized_prepared_datasets:184] [PID:766298] [RANK:0] Loading raw datasets...\u001b[39m\n",
      "[2024-05-16 21:42:41,664] [INFO] [axolotl.load_tokenized_prepared_datasets:410] [PID:766298] [RANK:0] merging datasets\u001b[39m\n",
      "[2024-05-16 21:42:41,667] [DEBUG] [axolotl.log:61] [PID:766298] [RANK:0] min_input_len: 298\u001b[39m\n",
      "[2024-05-16 21:42:41,667] [DEBUG] [axolotl.log:61] [PID:766298] [RANK:0] max_input_len: 768\u001b[39m\n",
      "[2024-05-16 21:42:41,667] [INFO] [axolotl.log:61] [PID:766298] [RANK:0] dropping attention_mask column\u001b[39m\n",
      "Dropping Long Sequences (num_proc=72): 100%|█| 100/100 [00:00<00:00, 366.21 exam\n",
      "[2024-05-16 21:42:42,491] [INFO] [axolotl.load_tokenized_prepared_datasets:423] [PID:766298] [RANK:0] Saving merged prepared dataset to disk... last_run_prepared/22cf9f5f00f9d3b9504fbaf9b68a2f75\u001b[39m\n",
      "Saving the dataset (1/1 shards): 100%|█| 100/100 [00:00<00:00, 10591.41 examples\n",
      "[2024-05-16 21:42:42,513] [DEBUG] [axolotl.log:61] [PID:766298] [RANK:0] total_num_tokens: 49_324\u001b[39m\n",
      "[2024-05-16 21:42:42,514] [DEBUG] [axolotl.log:61] [PID:766298] [RANK:0] `total_supervised_tokens: 7_732`\u001b[39m\n",
      "[2024-05-16 21:42:42,514] [DEBUG] [axolotl.log:61] [PID:766298] [RANK:0] total_num_steps: 5\u001b[39m\n",
      "[2024-05-16 21:42:42,514] [INFO] [axolotl.scripts.load_datasets:402] [PID:766298] [RANK:0] check_dataset_labels...\u001b[39m\n",
      "[2024-05-16 21:42:42,527] [INFO] [axolotl.check_example_labels:37] [PID:766298] [RANK:0] \u001b[31m<s>\u001b[0m\u001b[97m(-100, 1)\u001b[0m \u001b[31mH\u001b[0m\u001b[97m(-100, 382)\u001b[0m \u001b[31money\u001b[0m\u001b[97m(-100, 2011)\u001b[0m \u001b[31mcomb\u001b[0m\u001b[97m(-100, 17305)\u001b[0m \u001b[31mis\u001b[0m\u001b[97m(-100, 349)\u001b[0m \u001b[31man\u001b[0m\u001b[97m(-100, 396)\u001b[0m \u001b[31mobserv\u001b[0m\u001b[97m(-100, 3977)\u001b[0m \u001b[31mability\u001b[0m\u001b[97m(-100, 2437)\u001b[0m \u001b[31mplatform\u001b[0m\u001b[97m(-100, 5181)\u001b[0m \u001b[31mthat\u001b[0m\u001b[97m(-100, 369)\u001b[0m \u001b[31mallows\u001b[0m\u001b[97m(-100, 5976)\u001b[0m \u001b[31myou\u001b[0m\u001b[97m(-100, 368)\u001b[0m \u001b[31mto\u001b[0m\u001b[97m(-100, 298)\u001b[0m \u001b[31mwrite\u001b[0m\u001b[97m(-100, 3324)\u001b[0m \u001b[31mqueries\u001b[0m\u001b[97m(-100, 23681)\u001b[0m \u001b[31mto\u001b[0m\u001b[97m(-100, 298)\u001b[0m \u001b[31minspect\u001b[0m\u001b[97m(-100, 16279)\u001b[0m \u001b[31mtrace\u001b[0m\u001b[97m(-100, 10718)\u001b[0m \u001b[31mdata\u001b[0m\u001b[97m(-100, 1178)\u001b[0m \u001b[31m.\u001b[0m\u001b[97m(-100, 28723)\u001b[0m \u001b[31mYou\u001b[0m\u001b[97m(-100, 995)\u001b[0m \u001b[31mare\u001b[0m\u001b[97m(-100, 460)\u001b[0m \u001b[31man\u001b[0m\u001b[97m(-100, 396)\u001b[0m \u001b[31massistant\u001b[0m\u001b[97m(-100, 13892)\u001b[0m \u001b[31mthat\u001b[0m\u001b[97m(-100, 369)\u001b[0m \u001b[31mtakes\u001b[0m\u001b[97m(-100, 4347)\u001b[0m \u001b[31ma\u001b[0m\u001b[97m(-100, 264)\u001b[0m \u001b[31mnatural\u001b[0m\u001b[97m(-100, 4229)\u001b[0m \u001b[31mlanguage\u001b[0m\u001b[97m(-100, 3842)\u001b[0m \u001b[31mquery\u001b[0m\u001b[97m(-100, 5709)\u001b[0m \u001b[31m(\u001b[0m\u001b[97m(-100, 325)\u001b[0m \u001b[31mNL\u001b[0m\u001b[97m(-100, 16717)\u001b[0m \u001b[31mQ\u001b[0m\u001b[97m(-100, 28824)\u001b[0m \u001b[31m)\u001b[0m\u001b[97m(-100, 28731)\u001b[0m \u001b[31mand\u001b[0m\u001b[97m(-100, 304)\u001b[0m \u001b[31ma\u001b[0m\u001b[97m(-100, 264)\u001b[0m \u001b[31mlist\u001b[0m\u001b[97m(-100, 1274)\u001b[0m \u001b[31mof\u001b[0m\u001b[97m(-100, 302)\u001b[0m \u001b[31mvalid\u001b[0m\u001b[97m(-100, 3716)\u001b[0m \u001b[31mcolumns\u001b[0m\u001b[97m(-100, 11252)\u001b[0m \u001b[31mand\u001b[0m\u001b[97m(-100, 304)\u001b[0m \u001b[31mproduce\u001b[0m\u001b[97m(-100, 7072)\u001b[0m \u001b[31ma\u001b[0m\u001b[97m(-100, 264)\u001b[0m \u001b[31mH\u001b[0m\u001b[97m(-100, 382)\u001b[0m \u001b[31money\u001b[0m\u001b[97m(-100, 2011)\u001b[0m \u001b[31mcomb\u001b[0m\u001b[97m(-100, 17305)\u001b[0m \u001b[31mquery\u001b[0m\u001b[97m(-100, 5709)\u001b[0m \u001b[31m.\u001b[0m\u001b[97m(-100, 28723)\u001b[0m \u001b[31m<0x0A>\u001b[0m\u001b[97m(-100, 13)\u001b[0m \u001b[31m<0x0A>\u001b[0m\u001b[97m(-100, 13)\u001b[0m \u001b[31m###\u001b[0m\u001b[97m(-100, 774)\u001b[0m \u001b[31mInst\u001b[0m\u001b[97m(-100, 3133)\u001b[0m \u001b[31mruction\u001b[0m\u001b[97m(-100, 3112)\u001b[0m \u001b[31m:\u001b[0m\u001b[97m(-100, 28747)\u001b[0m \u001b[31m\u001b[0m\u001b[97m(-100, 28705)\u001b[0m \u001b[31m<0x0A>\u001b[0m\u001b[97m(-100, 13)\u001b[0m \u001b[31m<0x0A>\u001b[0m\u001b[97m(-100, 13)\u001b[0m \u001b[31mNL\u001b[0m\u001b[97m(-100, 16717)\u001b[0m \u001b[31mQ\u001b[0m\u001b[97m(-100, 28824)\u001b[0m \u001b[31m:\u001b[0m\u001b[97m(-100, 28747)\u001b[0m \u001b[31m\"\u001b[0m\u001b[97m(-100, 345)\u001b[0m \u001b[31mDisplay\u001b[0m\u001b[97m(-100, 7524)\u001b[0m \u001b[31mrecent\u001b[0m\u001b[97m(-100, 5391)\u001b[0m \u001b[31mtrace\u001b[0m\u001b[97m(-100, 10718)\u001b[0m \u001b[31mevents\u001b[0m\u001b[97m(-100, 3926)\u001b[0m \u001b[31mwithin\u001b[0m\u001b[97m(-100, 2373)\u001b[0m \u001b[31mthe\u001b[0m\u001b[97m(-100, 272)\u001b[0m \u001b[31mpast\u001b[0m\u001b[97m(-100, 2609)\u001b[0m \u001b[31m\u001b[0m\u001b[97m(-100, 28705)\u001b[0m \u001b[31m5\u001b[0m\u001b[97m(-100, 28782)\u001b[0m \u001b[31mminutes\u001b[0m\u001b[97m(-100, 3486)\u001b[0m \u001b[31m\"\u001b[0m\u001b[97m(-100, 28739)\u001b[0m \u001b[31m<0x0A>\u001b[0m\u001b[97m(-100, 13)\u001b[0m \u001b[31m<0x0A>\u001b[0m\u001b[97m(-100, 13)\u001b[0m \u001b[31mColumns\u001b[0m\u001b[97m(-100, 15468)\u001b[0m \u001b[31m:\u001b[0m\u001b[97m(-100, 28747)\u001b[0m \u001b[31m['\u001b[0m\u001b[97m(-100, 5936)\u001b[0m \u001b[31mtrace\u001b[0m\u001b[97m(-100, 9213)\u001b[0m \u001b[31m.\u001b[0m\u001b[97m(-100, 28723)\u001b[0m \u001b[31mtrace\u001b[0m\u001b[97m(-100, 9213)\u001b[0m \u001b[31m_\u001b[0m\u001b[97m(-100, 28730)\u001b[0m \u001b[31mid\u001b[0m\u001b[97m(-100, 313)\u001b[0m \u001b[31m',\u001b[0m\u001b[97m(-100, 647)\u001b[0m \u001b[31m'\u001b[0m\u001b[97m(-100, 464)\u001b[0m \u001b[31mduration\u001b[0m\u001b[97m(-100, 15458)\u001b[0m \u001b[31m_\u001b[0m\u001b[97m(-100, 28730)\u001b[0m \u001b[31mms\u001b[0m\u001b[97m(-100, 1033)\u001b[0m \u001b[31m',\u001b[0m\u001b[97m(-100, 647)\u001b[0m \u001b[31m'\u001b[0m\u001b[97m(-100, 464)\u001b[0m \u001b[31mtrace\u001b[0m\u001b[97m(-100, 9213)\u001b[0m \u001b[31m.\u001b[0m\u001b[97m(-100, 28723)\u001b[0m \u001b[31mspan\u001b[0m\u001b[97m(-100, 3721)\u001b[0m \u001b[31m_\u001b[0m\u001b[97m(-100, 28730)\u001b[0m \u001b[31mid\u001b[0m\u001b[97m(-100, 313)\u001b[0m \u001b[31m',\u001b[0m\u001b[97m(-100, 647)\u001b[0m \u001b[31m'\u001b[0m\u001b[97m(-100, 464)\u001b[0m \u001b[31mtrace\u001b[0m\u001b[97m(-100, 9213)\u001b[0m \u001b[31m.\u001b[0m\u001b[97m(-100, 28723)\u001b[0m \u001b[31mparent\u001b[0m\u001b[97m(-100, 3682)\u001b[0m \u001b[31m_\u001b[0m\u001b[97m(-100, 28730)\u001b[0m \u001b[31mid\u001b[0m\u001b[97m(-100, 313)\u001b[0m \u001b[31m',\u001b[0m\u001b[97m(-100, 647)\u001b[0m \u001b[31m'\u001b[0m\u001b[97m(-100, 464)\u001b[0m \u001b[31mmessage\u001b[0m\u001b[97m(-100, 1324)\u001b[0m \u001b[31m',\u001b[0m\u001b[97m(-100, 647)\u001b[0m \u001b[31m'\u001b[0m\u001b[97m(-100, 464)\u001b[0m \u001b[31mname\u001b[0m\u001b[97m(-100, 861)\u001b[0m \u001b[31m',\u001b[0m\u001b[97m(-100, 647)\u001b[0m \u001b[31m'\u001b[0m\u001b[97m(-100, 464)\u001b[0m \u001b[31mpath\u001b[0m\u001b[97m(-100, 1740)\u001b[0m \u001b[31m',\u001b[0m\u001b[97m(-100, 647)\u001b[0m \u001b[31m'\u001b[0m\u001b[97m(-100, 464)\u001b[0m \u001b[31merror\u001b[0m\u001b[97m(-100, 1958)\u001b[0m \u001b[31m',\u001b[0m\u001b[97m(-100, 647)\u001b[0m \u001b[31m'\u001b[0m\u001b[97m(-100, 464)\u001b[0m \u001b[31muser\u001b[0m\u001b[97m(-100, 1838)\u001b[0m \u001b[31m_\u001b[0m\u001b[97m(-100, 28730)\u001b[0m \u001b[31mid\u001b[0m\u001b[97m(-100, 313)\u001b[0m \u001b[31m',\u001b[0m\u001b[97m(-100, 647)\u001b[0m \u001b[31m'\u001b[0m\u001b[97m(-100, 464)\u001b[0m \u001b[31mprocess\u001b[0m\u001b[97m(-100, 5226)\u001b[0m \u001b[31m.\u001b[0m\u001b[97m(-100, 28723)\u001b[0m \u001b[31mpid\u001b[0m\u001b[97m(-100, 9507)\u001b[0m \u001b[31m',\u001b[0m\u001b[97m(-100, 647)\u001b[0m \u001b[31m'\u001b[0m\u001b[97m(-100, 464)\u001b[0m \u001b[31mspan\u001b[0m\u001b[97m(-100, 3721)\u001b[0m \u001b[31m.\u001b[0m\u001b[97m(-100, 28723)\u001b[0m \u001b[31mnum\u001b[0m\u001b[97m(-100, 2575)\u001b[0m \u001b[31m_\u001b[0m\u001b[97m(-100, 28730)\u001b[0m \u001b[31mevents\u001b[0m\u001b[97m(-100, 10829)\u001b[0m \u001b[31m',\u001b[0m\u001b[97m(-100, 647)\u001b[0m \u001b[31m'\u001b[0m\u001b[97m(-100, 464)\u001b[0m \u001b[31mprocess\u001b[0m\u001b[97m(-100, 5226)\u001b[0m \u001b[31m.\u001b[0m\u001b[97m(-100, 28723)\u001b[0m \u001b[31mowner\u001b[0m\u001b[97m(-100, 10349)\u001b[0m \u001b[31m',\u001b[0m\u001b[97m(-100, 647)\u001b[0m \u001b[31m'\u001b[0m\u001b[97m(-100, 464)\u001b[0m \u001b[31mparent\u001b[0m\u001b[97m(-100, 3682)\u001b[0m \u001b[31m_\u001b[0m\u001b[97m(-100, 28730)\u001b[0m \u001b[31mname\u001b[0m\u001b[97m(-100, 861)\u001b[0m \u001b[31m',\u001b[0m\u001b[97m(-100, 647)\u001b[0m \u001b[31m'\u001b[0m\u001b[97m(-100, 464)\u001b[0m \u001b[31mhttp\u001b[0m\u001b[97m(-100, 2872)\u001b[0m \u001b[31m.\u001b[0m\u001b[97m(-100, 28723)\u001b[0m \u001b[31mroute\u001b[0m\u001b[97m(-100, 11833)\u001b[0m \u001b[31m',\u001b[0m\u001b[97m(-100, 647)\u001b[0m \u001b[31m'\u001b[0m\u001b[97m(-100, 464)\u001b[0m \u001b[31mstatus\u001b[0m\u001b[97m(-100, 2837)\u001b[0m \u001b[31m_\u001b[0m\u001b[97m(-100, 28730)\u001b[0m \u001b[31mmessage\u001b[0m\u001b[97m(-100, 1324)\u001b[0m \u001b[31m',\u001b[0m\u001b[97m(-100, 647)\u001b[0m \u001b[31m'\u001b[0m\u001b[97m(-100, 464)\u001b[0m \u001b[31mtype\u001b[0m\u001b[97m(-100, 1123)\u001b[0m \u001b[31m',\u001b[0m\u001b[97m(-100, 647)\u001b[0m \u001b[31m'\u001b[0m\u001b[97m(-100, 464)\u001b[0m \u001b[31mspan\u001b[0m\u001b[97m(-100, 3721)\u001b[0m \u001b[31m.\u001b[0m\u001b[97m(-100, 28723)\u001b[0m \u001b[31mkind\u001b[0m\u001b[97m(-100, 9186)\u001b[0m \u001b[31m',\u001b[0m\u001b[97m(-100, 647)\u001b[0m \u001b[31m'\u001b[0m\u001b[97m(-100, 464)\u001b[0m \u001b[31mservice\u001b[0m\u001b[97m(-100, 5134)\u001b[0m \u001b[31m.\u001b[0m\u001b[97m(-100, 28723)\u001b[0m \u001b[31mname\u001b[0m\u001b[97m(-100, 861)\u001b[0m \u001b[31m',\u001b[0m\u001b[97m(-100, 647)\u001b[0m \u001b[31m'\u001b[0m\u001b[97m(-100, 464)\u001b[0m \u001b[31mtele\u001b[0m\u001b[97m(-100, 18720)\u001b[0m \u001b[31mmetry\u001b[0m\u001b[97m(-100, 16641)\u001b[0m \u001b[31m.\u001b[0m\u001b[97m(-100, 28723)\u001b[0m \u001b[31msdk\u001b[0m\u001b[97m(-100, 17287)\u001b[0m \u001b[31m.\u001b[0m\u001b[97m(-100, 28723)\u001b[0m \u001b[31mlanguage\u001b[0m\u001b[97m(-100, 11904)\u001b[0m \u001b[31m',\u001b[0m\u001b[97m(-100, 647)\u001b[0m \u001b[31m'\u001b[0m\u001b[97m(-100, 464)\u001b[0m \u001b[31mmethod\u001b[0m\u001b[97m(-100, 4350)\u001b[0m \u001b[31m',\u001b[0m\u001b[97m(-100, 647)\u001b[0m \u001b[31m'\u001b[0m\u001b[97m(-100, 464)\u001b[0m \u001b[31mhttp\u001b[0m\u001b[97m(-100, 2872)\u001b[0m \u001b[31m.\u001b[0m\u001b[97m(-100, 28723)\u001b[0m \u001b[31mmethod\u001b[0m\u001b[97m(-100, 4350)\u001b[0m \u001b[31m',\u001b[0m\u001b[97m(-100, 647)\u001b[0m \u001b[31m'\u001b[0m\u001b[97m(-100, 464)\u001b[0m \u001b[31mtele\u001b[0m\u001b[97m(-100, 18720)\u001b[0m \u001b[31mmetry\u001b[0m\u001b[97m(-100, 16641)\u001b[0m \u001b[31m.\u001b[0m\u001b[97m(-100, 28723)\u001b[0m \u001b[31msdk\u001b[0m\u001b[97m(-100, 17287)\u001b[0m \u001b[31m.\u001b[0m\u001b[97m(-100, 28723)\u001b[0m \u001b[31mname\u001b[0m\u001b[97m(-100, 861)\u001b[0m \u001b[31m',\u001b[0m\u001b[97m(-100, 647)\u001b[0m \u001b[31m'\u001b[0m\u001b[97m(-100, 464)\u001b[0m \u001b[31mprocess\u001b[0m\u001b[97m(-100, 5226)\u001b[0m \u001b[31m.\u001b[0m\u001b[97m(-100, 28723)\u001b[0m \u001b[31mruntime\u001b[0m\u001b[97m(-100, 8863)\u001b[0m \u001b[31m.\u001b[0m\u001b[97m(-100, 28723)\u001b[0m \u001b[31mdescription\u001b[0m\u001b[97m(-100, 6518)\u001b[0m \u001b[31m',\u001b[0m\u001b[97m(-100, 647)\u001b[0m \u001b[31m'\u001b[0m\u001b[97m(-100, 464)\u001b[0m \u001b[31mprocess\u001b[0m\u001b[97m(-100, 5226)\u001b[0m \u001b[31m.\u001b[0m\u001b[97m(-100, 28723)\u001b[0m \u001b[31mruntime\u001b[0m\u001b[97m(-100, 8863)\u001b[0m \u001b[31m.\u001b[0m\u001b[97m(-100, 28723)\u001b[0m \u001b[31mname\u001b[0m\u001b[97m(-100, 861)\u001b[0m \u001b[31m',\u001b[0m\u001b[97m(-100, 647)\u001b[0m \u001b[31m'\u001b[0m\u001b[97m(-100, 464)\u001b[0m \u001b[31mtele\u001b[0m\u001b[97m(-100, 18720)\u001b[0m \u001b[31mmetry\u001b[0m\u001b[97m(-100, 16641)\u001b[0m \u001b[31m.\u001b[0m\u001b[97m(-100, 28723)\u001b[0m \u001b[31msdk\u001b[0m\u001b[97m(-100, 17287)\u001b[0m \u001b[31m.\u001b[0m\u001b[97m(-100, 28723)\u001b[0m \u001b[31mversion\u001b[0m\u001b[97m(-100, 1790)\u001b[0m \u001b[31m',\u001b[0m\u001b[97m(-100, 647)\u001b[0m \u001b[31m'\u001b[0m\u001b[97m(-100, 464)\u001b[0m \u001b[31mlibrary\u001b[0m\u001b[97m(-100, 16228)\u001b[0m \u001b[31m.\u001b[0m\u001b[97m(-100, 28723)\u001b[0m \u001b[31mname\u001b[0m\u001b[97m(-100, 861)\u001b[0m \u001b[31m',\u001b[0m\u001b[97m(-100, 647)\u001b[0m \u001b[31m'\u001b[0m\u001b[97m(-100, 464)\u001b[0m \u001b[31mspan\u001b[0m\u001b[97m(-100, 3721)\u001b[0m \u001b[31m.\u001b[0m\u001b[97m(-100, 28723)\u001b[0m \u001b[31mnum\u001b[0m\u001b[97m(-100, 2575)\u001b[0m \u001b[31m_\u001b[0m\u001b[97m(-100, 28730)\u001b[0m \u001b[31mlinks\u001b[0m\u001b[97m(-100, 17052)\u001b[0m \u001b[31m',\u001b[0m\u001b[97m(-100, 647)\u001b[0m \u001b[31m'\u001b[0m\u001b[97m(-100, 464)\u001b[0m \u001b[31mprocess\u001b[0m\u001b[97m(-100, 5226)\u001b[0m \u001b[31m.\u001b[0m\u001b[97m(-100, 28723)\u001b[0m \u001b[31mcommand\u001b[0m\u001b[97m(-100, 6123)\u001b[0m \u001b[31m',\u001b[0m\u001b[97m(-100, 647)\u001b[0m \u001b[31m'\u001b[0m\u001b[97m(-100, 464)\u001b[0m \u001b[31mmeta\u001b[0m\u001b[97m(-100, 8301)\u001b[0m \u001b[31m.\u001b[0m\u001b[97m(-100, 28723)\u001b[0m \u001b[31msignal\u001b[0m\u001b[97m(-100, 16530)\u001b[0m \u001b[31m_\u001b[0m\u001b[97m(-100, 28730)\u001b[0m \u001b[31mtype\u001b[0m\u001b[97m(-100, 1123)\u001b[0m \u001b[31m',\u001b[0m\u001b[97m(-100, 647)\u001b[0m \u001b[31m'\u001b[0m\u001b[97m(-100, 464)\u001b[0m \u001b[31mstatus\u001b[0m\u001b[97m(-100, 2837)\u001b[0m \u001b[31m_\u001b[0m\u001b[97m(-100, 28730)\u001b[0m \u001b[31mcode\u001b[0m\u001b[97m(-100, 1409)\u001b[0m \u001b[31m',\u001b[0m\u001b[97m(-100, 647)\u001b[0m \u001b[31m'\u001b[0m\u001b[97m(-100, 464)\u001b[0m \u001b[31mprocess\u001b[0m\u001b[97m(-100, 5226)\u001b[0m \u001b[31m.\u001b[0m\u001b[97m(-100, 28723)\u001b[0m \u001b[31mruntime\u001b[0m\u001b[97m(-100, 8863)\u001b[0m \u001b[31m.\u001b[0m\u001b[97m(-100, 28723)\u001b[0m \u001b[31mversion\u001b[0m\u001b[97m(-100, 1790)\u001b[0m \u001b[31m',\u001b[0m\u001b[97m(-100, 647)\u001b[0m \u001b[31m'\u001b[0m\u001b[97m(-100, 464)\u001b[0m \u001b[31mprocess\u001b[0m\u001b[97m(-100, 5226)\u001b[0m \u001b[31m.\u001b[0m\u001b[97m(-100, 28723)\u001b[0m \u001b[31mcommand\u001b[0m\u001b[97m(-100, 6123)\u001b[0m \u001b[31m_\u001b[0m\u001b[97m(-100, 28730)\u001b[0m \u001b[31margs\u001b[0m\u001b[97m(-100, 3087)\u001b[0m \u001b[31m',\u001b[0m\u001b[97m(-100, 647)\u001b[0m \u001b[31m'\u001b[0m\u001b[97m(-100, 464)\u001b[0m \u001b[31mprocess\u001b[0m\u001b[97m(-100, 5226)\u001b[0m \u001b[31m.\u001b[0m\u001b[97m(-100, 28723)\u001b[0m \u001b[31mexecut\u001b[0m\u001b[97m(-100, 15873)\u001b[0m \u001b[31mable\u001b[0m\u001b[97m(-100, 522)\u001b[0m \u001b[31m.\u001b[0m\u001b[97m(-100, 28723)\u001b[0m \u001b[31mpath\u001b[0m\u001b[97m(-100, 1740)\u001b[0m \u001b[31m',\u001b[0m\u001b[97m(-100, 647)\u001b[0m \u001b[31m'\u001b[0m\u001b[97m(-100, 464)\u001b[0m \u001b[31mhttp\u001b[0m\u001b[97m(-100, 2872)\u001b[0m \u001b[31m.\u001b[0m\u001b[97m(-100, 28723)\u001b[0m \u001b[31mstatus\u001b[0m\u001b[97m(-100, 2837)\u001b[0m \u001b[31m_\u001b[0m\u001b[97m(-100, 28730)\u001b[0m \u001b[31mcode\u001b[0m\u001b[97m(-100, 1409)\u001b[0m \u001b[31m',\u001b[0m\u001b[97m(-100, 647)\u001b[0m \u001b[31m'\u001b[0m\u001b[97m(-100, 464)\u001b[0m \u001b[31mprocess\u001b[0m\u001b[97m(-100, 5226)\u001b[0m \u001b[31m.\u001b[0m\u001b[97m(-100, 28723)\u001b[0m \u001b[31mexecut\u001b[0m\u001b[97m(-100, 15873)\u001b[0m \u001b[31mable\u001b[0m\u001b[97m(-100, 522)\u001b[0m \u001b[31m.\u001b[0m\u001b[97m(-100, 28723)\u001b[0m \u001b[31mname\u001b[0m\u001b[97m(-100, 861)\u001b[0m \u001b[31m',\u001b[0m\u001b[97m(-100, 647)\u001b[0m \u001b[31m'\u001b[0m\u001b[97m(-100, 464)\u001b[0m \u001b[31mmeta\u001b[0m\u001b[97m(-100, 8301)\u001b[0m \u001b[31m.\u001b[0m\u001b[97m(-100, 28723)\u001b[0m \u001b[31mannotation\u001b[0m\u001b[97m(-100, 10066)\u001b[0m \u001b[31m_\u001b[0m\u001b[97m(-100, 28730)\u001b[0m \u001b[31mtype\u001b[0m\u001b[97m(-100, 1123)\u001b[0m \u001b[31m']\u001b[0m\u001b[97m(-100, 1421)\u001b[0m \u001b[31m<0x0A>\u001b[0m\u001b[97m(-100, 13)\u001b[0m \u001b[31m<0x0A>\u001b[0m\u001b[97m(-100, 13)\u001b[0m \u001b[31m###\u001b[0m\u001b[97m(-100, 774)\u001b[0m \u001b[31mResponse\u001b[0m\u001b[97m(-100, 12107)\u001b[0m \u001b[31m:\u001b[0m\u001b[97m(-100, 28747)\u001b[0m \u001b[32m\u001b[0m\u001b[97m(28705, 28705)\u001b[0m \u001b[32m<0x0A>\u001b[0m\u001b[97m(13, 13)\u001b[0m \u001b[32m{\"\u001b[0m\u001b[97m(6799, 6799)\u001b[0m \u001b[32mtime\u001b[0m\u001b[97m(1536, 1536)\u001b[0m \u001b[32m_\u001b[0m\u001b[97m(28730, 28730)\u001b[0m \u001b[32mrange\u001b[0m\u001b[97m(6347, 6347)\u001b[0m \u001b[32m\":\u001b[0m\u001b[97m(1264, 1264)\u001b[0m \u001b[32m\u001b[0m\u001b[97m(28705, 28705)\u001b[0m \u001b[32m3\u001b[0m\u001b[97m(28770, 28770)\u001b[0m \u001b[32m0\u001b[0m\u001b[97m(28734, 28734)\u001b[0m \u001b[32m0\u001b[0m\u001b[97m(28734, 28734)\u001b[0m \u001b[32m,\u001b[0m\u001b[97m(28725, 28725)\u001b[0m \u001b[32m\"\u001b[0m\u001b[97m(345, 345)\u001b[0m \u001b[32mbreak\u001b[0m\u001b[97m(2876, 2876)\u001b[0m \u001b[32mdown\u001b[0m\u001b[97m(3254, 3254)\u001b[0m \u001b[32ms\u001b[0m\u001b[97m(28713, 28713)\u001b[0m \u001b[32m\":\u001b[0m\u001b[97m(1264, 1264)\u001b[0m \u001b[32m[\"\u001b[0m\u001b[97m(7367, 7367)\u001b[0m \u001b[32mtrace\u001b[0m\u001b[97m(9213, 9213)\u001b[0m \u001b[32m.\u001b[0m\u001b[97m(28723, 28723)\u001b[0m \u001b[32mtrace\u001b[0m\u001b[97m(9213, 9213)\u001b[0m \u001b[32m_\u001b[0m\u001b[97m(28730, 28730)\u001b[0m \u001b[32mid\u001b[0m\u001b[97m(313, 313)\u001b[0m \u001b[32m\"],\u001b[0m\u001b[97m(8883, 8883)\u001b[0m \u001b[32m\"\u001b[0m\u001b[97m(345, 345)\u001b[0m \u001b[32mcal\u001b[0m\u001b[97m(1391, 1391)\u001b[0m \u001b[32mcul\u001b[0m\u001b[97m(2320, 2320)\u001b[0m \u001b[32mations\u001b[0m\u001b[97m(697, 697)\u001b[0m \u001b[32m\":\u001b[0m\u001b[97m(1264, 1264)\u001b[0m \u001b[32m[\u001b[0m\u001b[97m(733, 733)\u001b[0m \u001b[32m{\"\u001b[0m\u001b[97m(6799, 6799)\u001b[0m \u001b[32mop\u001b[0m\u001b[97m(410, 410)\u001b[0m \u001b[32m\":\u001b[0m\u001b[97m(1264, 1264)\u001b[0m \u001b[32m\"\u001b[0m\u001b[97m(345, 345)\u001b[0m \u001b[32mCOUNT\u001b[0m\u001b[97m(14167, 14167)\u001b[0m \u001b[32m\"}\u001b[0m\u001b[97m(17395, 17395)\u001b[0m \u001b[32m],\u001b[0m\u001b[97m(1181, 1181)\u001b[0m \u001b[32m\"\u001b[0m\u001b[97m(345, 345)\u001b[0m \u001b[32mfilters\u001b[0m\u001b[97m(16867, 16867)\u001b[0m \u001b[32m\":\u001b[0m\u001b[97m(1264, 1264)\u001b[0m \u001b[32m[\u001b[0m\u001b[97m(733, 733)\u001b[0m \u001b[32m{\"\u001b[0m\u001b[97m(6799, 6799)\u001b[0m \u001b[32mcolumn\u001b[0m\u001b[97m(5571, 5571)\u001b[0m \u001b[32m\":\u001b[0m\u001b[97m(1264, 1264)\u001b[0m \u001b[32m\"\u001b[0m\u001b[97m(345, 345)\u001b[0m \u001b[32mtrace\u001b[0m\u001b[97m(9213, 9213)\u001b[0m \u001b[32m.\u001b[0m\u001b[97m(28723, 28723)\u001b[0m \u001b[32mtrace\u001b[0m\u001b[97m(9213, 9213)\u001b[0m \u001b[32m_\u001b[0m\u001b[97m(28730, 28730)\u001b[0m \u001b[32mid\u001b[0m\u001b[97m(313, 313)\u001b[0m \u001b[32m\",\u001b[0m\u001b[97m(548, 548)\u001b[0m \u001b[32m\"\u001b[0m\u001b[97m(345, 345)\u001b[0m \u001b[32mop\u001b[0m\u001b[97m(410, 410)\u001b[0m \u001b[32m\":\u001b[0m\u001b[97m(1264, 1264)\u001b[0m \u001b[32m\"\u001b[0m\u001b[97m(345, 345)\u001b[0m \u001b[32mexists\u001b[0m\u001b[97m(10600, 10600)\u001b[0m \u001b[32m\"}\u001b[0m\u001b[97m(17395, 17395)\u001b[0m \u001b[32m],\u001b[0m\u001b[97m(1181, 1181)\u001b[0m \u001b[32m\"\u001b[0m\u001b[97m(345, 345)\u001b[0m \u001b[32morders\u001b[0m\u001b[97m(10486, 10486)\u001b[0m \u001b[32m\":\u001b[0m\u001b[97m(1264, 1264)\u001b[0m \u001b[32m[\u001b[0m\u001b[97m(733, 733)\u001b[0m \u001b[32m{\"\u001b[0m\u001b[97m(6799, 6799)\u001b[0m \u001b[32mop\u001b[0m\u001b[97m(410, 410)\u001b[0m \u001b[32m\":\u001b[0m\u001b[97m(1264, 1264)\u001b[0m \u001b[32m\"\u001b[0m\u001b[97m(345, 345)\u001b[0m \u001b[32mCOUNT\u001b[0m\u001b[97m(14167, 14167)\u001b[0m \u001b[32m\",\u001b[0m\u001b[97m(548, 548)\u001b[0m \u001b[32m\"\u001b[0m\u001b[97m(345, 345)\u001b[0m \u001b[32morder\u001b[0m\u001b[97m(2274, 2274)\u001b[0m \u001b[32m\":\u001b[0m\u001b[97m(1264, 1264)\u001b[0m \u001b[32m\"\u001b[0m\u001b[97m(345, 345)\u001b[0m \u001b[32mdesc\u001b[0m\u001b[97m(5916, 5916)\u001b[0m \u001b[32mending\u001b[0m\u001b[97m(2570, 2570)\u001b[0m \u001b[32m\"}\u001b[0m\u001b[97m(17395, 17395)\u001b[0m \u001b[32m]}\u001b[0m\u001b[97m(9205, 9205)\u001b[0m \u001b[32m</s>\u001b[0m\u001b[97m(2, 2)\u001b[0m\u001b[39m\n",
      "[2024-05-16 21:42:42,528] [INFO] [axolotl.check_example_labels:38] [PID:766298] [RANK:0] \n",
      "\n",
      "\n",
      "\u001b[39m\n",
      "[2024-05-16 21:42:42,528] [INFO] [axolotl.scripts.load_datasets:415] [PID:766298] [RANK:0] printing prompters...\u001b[39m\n",
      "[2024-05-16 21:42:42,528] [INFO] [axolotl.scripts.load_datasets:417] [PID:766298] [RANK:0] Pre-tokenized or custom dataset types are unsupported for logging\u001b[39m\n",
      "[2024-05-16 21:42:42,533] [INFO] [axolotl.cli.preprocess.do_cli:62] [PID:766298] [RANK:0] \u001b[32mSuccess! Preprocessed data path: `dataset_prepared_path: last_run_prepared`\u001b[39m\u001b[39m\n",
      "\u001b[0m"
     ]
    }
   ],
   "source": [
    "! python -m axolotl.cli.preprocess hc.yml --debug"
   ]
  },
  {
   "cell_type": "markdown",
   "id": "adab233f-fb90-4226-b0c7-f65031155c4c",
   "metadata": {},
   "source": [
    "## Look at special tokens\n",
    "\n",
    "Ex: What is `<0x0A>`?"
   ]
  },
  {
   "cell_type": "code",
   "execution_count": 41,
   "id": "c1025600-a2fc-4a7e-8a0e-66aa7cdc0691",
   "metadata": {},
   "outputs": [
    {
     "data": {
      "text/plain": [
       "'\\n'"
      ]
     },
     "execution_count": 41,
     "metadata": {},
     "output_type": "execute_result"
    }
   ],
   "source": [
    "tok.decode([13])"
   ]
  },
  {
   "cell_type": "markdown",
   "id": "b13e6ca7-adf9-4b1d-849e-6b3267371841",
   "metadata": {},
   "source": [
    "**But where is the space coming from?**"
   ]
  },
  {
   "cell_type": "code",
   "execution_count": 42,
   "id": "d6a4bd50-0dd4-47f7-a47c-873f21b18f25",
   "metadata": {},
   "outputs": [
    {
     "data": {
      "text/plain": [
       "'###'"
      ]
     },
     "execution_count": 42,
     "metadata": {},
     "output_type": "execute_result"
    }
   ],
   "source": [
    "tok.decode(774)"
   ]
  },
  {
   "cell_type": "markdown",
   "id": "3fbbd9c6-05c0-41b6-bac0-d0acf4667b84",
   "metadata": {},
   "source": [
    "**It's pretty confusing!  See [this blog post](https://hamel.dev/notes/llm/finetuning/05_tokenizer_gotchas.html)**\n",
    "\n",
    "What does Wing think?"
   ]
  },
  {
   "cell_type": "code",
   "execution_count": null,
   "id": "3781e472-e120-4f9b-867b-9adc602d7135",
   "metadata": {},
   "outputs": [],
   "source": []
  }
 ],
 "metadata": {
  "kernelspec": {
   "display_name": "Python 3 (ipykernel)",
   "language": "python",
   "name": "python3"
  },
  "language_info": {
   "codemirror_mode": {
    "name": "ipython",
    "version": 3
   },
   "file_extension": ".py",
   "mimetype": "text/x-python",
   "name": "python",
   "nbconvert_exporter": "python",
   "pygments_lexer": "ipython3",
   "version": "3.10.13"
  }
 },
 "nbformat": 4,
 "nbformat_minor": 5
}
